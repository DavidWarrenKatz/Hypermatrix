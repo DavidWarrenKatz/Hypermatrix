{
 "cells": [
  {
   "cell_type": "code",
   "execution_count": 11,
   "id": "2ba119ab",
   "metadata": {},
   "outputs": [],
   "source": [
    "import scanpy as sc\n",
    "import scrublet as scr\n",
    "import numpy as np\n",
    "import h5py\n",
    "\n",
    "def process_and_filter_data(adata):\n",
    "    # Define the filter criteria\n",
    "    min_genes = 500\n",
    "    max_genes = 6000\n",
    "    min_umis = 500\n",
    "    max_umis = 40000\n",
    "    max_mito_ratio = 0.10  # 10% mitochondrial genes ratio\n",
    "    max_ribo_ratio = 0.40  # 40% ribosomal genes ratio\n",
    "\n",
    "    # Filter cells based on gene counts and UMI counts\n",
    "    sc.pp.filter_cells(adata, min_genes=min_genes)\n",
    "    sc.pp.filter_cells(adata, max_genes=max_genes)\n",
    "    sc.pp.filter_cells(adata, min_counts=min_umis)\n",
    "    sc.pp.filter_cells(adata, max_counts=max_umis)\n",
    "\n",
    "    # Calculate the mitochondrial and ribosomal gene ratios\n",
    "    mito_genes = adata.var_names.str.startswith('MT-')\n",
    "    ribo_genes = adata.var_names.str.startswith('RPL') | adata.var_names.str.startswith('RPS')\n",
    "\n",
    "    # Calculate the mitochondrial and ribosomal gene sums for each cell\n",
    "    mito_counts = adata[:, mito_genes].X.sum(axis=1)\n",
    "    ribo_counts = adata[:, ribo_genes].X.sum(axis=1)\n",
    "    \n",
    "    # Calculate the mitochondrial and ribosomal gene ratios\n",
    "    mito_ratio = mito_counts / len(adata.obs['n_counts'])\n",
    "    ribo_ratio = ribo_counts / len(adata.obs['n_counts'])\n",
    "\n",
    "    # Filter cells based on mitochondrial and ribosomal gene ratios\n",
    "    adata = adata[(mito_ratio <= max_mito_ratio) & (ribo_ratio <= max_ribo_ratio), :]\n",
    "\n",
    "    # Remove the temporary columns used for calculations\n",
    "    adata.obs.drop(columns=['n_counts'], inplace=True)\n",
    "\n",
    "    # Scrublet doublet detection\n",
    "    scrub = scr.Scrublet(adata.X)\n",
    "    doublet_scores, predicted_doublets = scrub.scrub_doublets()\n",
    "\n",
    "    # Define a threshold for doublet prediction\n",
    "    doublet_threshold = 0.25\n",
    "\n",
    "    # Create a boolean mask for doublets\n",
    "    is_doublet = predicted_doublets > doublet_threshold\n",
    "\n",
    "    # Filter out doublets from the dataset\n",
    "    adata = adata[~is_doublet, :]\n",
    "\n",
    "    return adata\n"
   ]
  },
  {
   "cell_type": "code",
   "execution_count": 12,
   "id": "bd7f9600",
   "metadata": {},
   "outputs": [
    {
     "name": "stderr",
     "output_type": "stream",
     "text": [
      "/home/dwk681/.local/lib/python3.9/site-packages/anndata/__init__.py:51: FutureWarning: `anndata.read` is deprecated, use `anndata.read_h5ad` instead. `ad.read` will be removed in mid 2024.\n",
      "  warnings.warn(\n",
      "/home/dwk681/.local/lib/python3.9/site-packages/anndata/__init__.py:51: FutureWarning: `anndata.read` is deprecated, use `anndata.read_h5ad` instead. `ad.read` will be removed in mid 2024.\n",
      "  warnings.warn(\n",
      "/home/dwk681/.local/lib/python3.9/site-packages/anndata/__init__.py:51: FutureWarning: `anndata.read` is deprecated, use `anndata.read_h5ad` instead. `ad.read` will be removed in mid 2024.\n",
      "  warnings.warn(\n",
      "/home/dwk681/.local/lib/python3.9/site-packages/anndata/__init__.py:51: FutureWarning: `anndata.read` is deprecated, use `anndata.read_h5ad` instead. `ad.read` will be removed in mid 2024.\n",
      "  warnings.warn(\n"
     ]
    }
   ],
   "source": [
    "#load data as adata objects\n",
    "#path is the directory with the `.mtx` file\n",
    "\n",
    "path = '/home/dwk681/workspace/CRA004660/CRR403690_Liver-Iso-Y/CRR403690/outs/filtered_feature_bc_matrix'\n",
    "adata_Iso_Y = sc.read_10x_mtx(\n",
    "    path,  \n",
    "    cache=True)\n",
    "\n",
    "path = '/home/dwk681/workspace/CRA004660/CRR403692_Liver-Het-Y/CRR403692/outs/filtered_feature_bc_matrix'\n",
    "adata_Het_Y = sc.read_10x_mtx(\n",
    "    path,  \n",
    "    cache=True)\n",
    "\n",
    "path = '/home/dwk681/workspace/CRA004660/CRR403691_Liver-Iso-O/CRR403691/outs/filtered_feature_bc_matrix'\n",
    "adata_Iso_O = sc.read_10x_mtx(\n",
    "    path,  \n",
    "    cache=True)\n",
    "\n",
    "path = '/home/dwk681/workspace/CRA004660/CRR403693_Liver-Het-O/CRR403693/outs/filtered_feature_bc_matrix/' \n",
    "adata_Het_O = sc.read_10x_mtx(\n",
    "    path,  \n",
    "    cache=True)"
   ]
  },
  {
   "cell_type": "code",
   "execution_count": 14,
   "id": "47b131eb",
   "metadata": {},
   "outputs": [
    {
     "name": "stdout",
     "output_type": "stream",
     "text": [
      "Preprocessing...\n",
      "Simulating doublets...\n",
      "Embedding transcriptomes using PCA...\n",
      "Calculating doublet scores...\n",
      "Automatically set threshold at doublet score = 0.63\n",
      "Detected doublet rate = 0.0%\n",
      "Estimated detectable doublet fraction = 0.1%\n",
      "Overall doublet rate:\n",
      "\tExpected   = 10.0%\n",
      "\tEstimated  = 16.7%\n",
      "Elapsed time: 3.4 seconds\n",
      "Preprocessing...\n",
      "Simulating doublets...\n",
      "Embedding transcriptomes using PCA...\n",
      "Calculating doublet scores...\n",
      "Automatically set threshold at doublet score = 0.60\n",
      "Detected doublet rate = 0.0%\n",
      "Estimated detectable doublet fraction = 0.2%\n",
      "Overall doublet rate:\n",
      "\tExpected   = 10.0%\n",
      "\tEstimated  = 20.7%\n",
      "Elapsed time: 8.6 seconds\n",
      "Preprocessing...\n",
      "Simulating doublets...\n",
      "Embedding transcriptomes using PCA...\n",
      "Calculating doublet scores...\n",
      "Automatically set threshold at doublet score = 0.81\n",
      "Detected doublet rate = 0.0%\n",
      "Estimated detectable doublet fraction = 0.4%\n",
      "Overall doublet rate:\n",
      "\tExpected   = 10.0%\n",
      "\tEstimated  = 0.0%\n",
      "Elapsed time: 15.0 seconds\n",
      "Preprocessing...\n",
      "Simulating doublets...\n",
      "Embedding transcriptomes using PCA...\n",
      "Calculating doublet scores...\n",
      "Automatically set threshold at doublet score = 0.67\n",
      "Detected doublet rate = 0.0%\n",
      "Estimated detectable doublet fraction = 0.0%\n",
      "Overall doublet rate:\n",
      "\tExpected   = 10.0%\n",
      "\tEstimated  = 28.6%\n",
      "Elapsed time: 11.5 seconds\n"
     ]
    }
   ],
   "source": [
    "#adata_list = [adata_Iso_Y, adata_Het_Y, adata_Iso_O, adata_Het_O]\n",
    "#processed_data_list = [process_and_filter_data(adata) for adata in adata_list]\n",
    "\n",
    "adata_Iso_Y_filtered = process_and_filter_data(adata_Iso_Y)\n",
    "adata_Iso_O_filtered = process_and_filter_data(adata_Iso_O)\n",
    "adata_Het_Y_filtered = process_and_filter_data(adata_Het_Y)\n",
    "adata_Het_O_filtered = process_and_filter_data(adata_Het_O)"
   ]
  },
  {
   "cell_type": "code",
   "execution_count": 24,
   "id": "1413d455",
   "metadata": {},
   "outputs": [],
   "source": [
    "count_matrix_Iso_Y_filtered = adata_Iso_Y_filtered.X.toarray()\n",
    "count_matrix_Iso_O_filtered = adata_Iso_O_filtered.X.toarray()\n",
    "count_matrix_Het_Y_filtered = adata_Het_Y_filtered.X.toarray()\n",
    "count_matrix_Het_O_filtered = adata_Het_O_filtered.X.toarray()\n",
    "\n"
   ]
  },
  {
   "cell_type": "code",
   "execution_count": 25,
   "id": "e899de55",
   "metadata": {},
   "outputs": [
    {
     "name": "stdout",
     "output_type": "stream",
     "text": [
      "(11518, 68886)\n",
      "(14029, 68886)\n",
      "(9052, 68886)\n",
      "(4273, 68886)\n"
     ]
    }
   ],
   "source": []
  },
  {
   "cell_type": "code",
   "execution_count": 28,
   "id": "5b740d69",
   "metadata": {},
   "outputs": [],
   "source": [
    "max_rows = max(count_matrix_Iso_Y_filtered.shape[0], count_matrix_Iso_O_filtered.shape[0], count_matrix_Het_Y_filtered.shape[0], count_matrix_Het_O_filtered.shape[0])\n",
    "\n",
    "# Create new matrices with the maximum number of rows and fill in missing rows with NaN values\n",
    "def pad_matrix(matrix, max_rows):\n",
    "    num_rows, num_cols = matrix.shape\n",
    "    if num_rows < max_rows:\n",
    "        padding = np.full((max_rows - num_rows, num_cols), np.nan)\n",
    "        return np.vstack((matrix, padding))\n",
    "    else:\n",
    "        return matrix\n",
    "\n",
    "count_matrix_Iso_Y_padded = pad_matrix(count_matrix_Iso_Y_filtered, max_rows)\n",
    "count_matrix_Iso_O_padded = pad_matrix(count_matrix_Iso_O_filtered, max_rows)\n",
    "count_matrix_Het_Y_padded = pad_matrix(count_matrix_Het_Y_filtered, max_rows)\n",
    "count_matrix_Het_O_padded = pad_matrix(count_matrix_Het_O_filtered, max_rows)"
   ]
  },
  {
   "cell_type": "code",
   "execution_count": 29,
   "id": "44ef8b3e",
   "metadata": {},
   "outputs": [
    {
     "name": "stdout",
     "output_type": "stream",
     "text": [
      "(14029, 68886)\n",
      "(14029, 68886)\n",
      "(14029, 68886)\n",
      "(14029, 68886)\n"
     ]
    }
   ],
   "source": []
  },
  {
   "cell_type": "code",
   "execution_count": 30,
   "id": "54b6c013",
   "metadata": {},
   "outputs": [],
   "source": [
    "output_directory = '/home/dwk681/workspace/CRA004660/'\n",
    "filename = \"all_four_padded_filtered_count_matrices\"  # Update this with the desired filename\n",
    "\n",
    "# Define the count matrices (e.g., count_matrix_Iso_Y_padded, count_matrix_Iso_O_padded, etc.)\n",
    "\n",
    "# Create an HDF5 file and save the count matrices\n",
    "with h5py.File(output_directory + f'/{filename}.mat', 'w') as f:\n",
    "    f.create_dataset('Iso_Y', data=count_matrix_Iso_Y_padded)\n",
    "    f.create_dataset('Iso_O', data=count_matrix_Iso_O_padded)\n",
    "    f.create_dataset('Het_Y', data=count_matrix_Het_Y_padded)\n",
    "    f.create_dataset('Het_O', data=count_matrix_Het_O_padded)\n",
    "\n"
   ]
  },
  {
   "cell_type": "code",
   "execution_count": null,
   "id": "a5d7bb04",
   "metadata": {},
   "outputs": [],
   "source": []
  }
 ],
 "metadata": {
  "kernelspec": {
   "display_name": "scrublet",
   "language": "python",
   "name": "scrublet"
  },
  "language_info": {
   "codemirror_mode": {
    "name": "ipython",
    "version": 3
   },
   "file_extension": ".py",
   "mimetype": "text/x-python",
   "name": "python",
   "nbconvert_exporter": "python",
   "pygments_lexer": "ipython3",
   "version": "3.9.5"
  }
 },
 "nbformat": 4,
 "nbformat_minor": 5
}
