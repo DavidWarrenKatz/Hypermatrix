{
 "cells": [
  {
   "cell_type": "code",
   "execution_count": 1,
   "id": "63af1129",
   "metadata": {},
   "outputs": [
    {
     "name": "stderr",
     "output_type": "stream",
     "text": [
      "/home/dwk681/.local/lib/python3.9/site-packages/anndata/__init__.py:51: FutureWarning: `anndata.read` is deprecated, use `anndata.read_h5ad` instead. `ad.read` will be removed in mid 2024.\n",
      "  warnings.warn(\n",
      "/home/dwk681/.local/lib/python3.9/site-packages/anndata/__init__.py:51: FutureWarning: `anndata.read` is deprecated, use `anndata.read_h5ad` instead. `ad.read` will be removed in mid 2024.\n",
      "  warnings.warn(\n",
      "/home/dwk681/.local/lib/python3.9/site-packages/anndata/__init__.py:51: FutureWarning: `anndata.read` is deprecated, use `anndata.read_h5ad` instead. `ad.read` will be removed in mid 2024.\n",
      "  warnings.warn(\n",
      "/home/dwk681/.local/lib/python3.9/site-packages/anndata/__init__.py:51: FutureWarning: `anndata.read` is deprecated, use `anndata.read_h5ad` instead. `ad.read` will be removed in mid 2024.\n",
      "  warnings.warn(\n"
     ]
    }
   ],
   "source": [
    "#This cell imports the four Liver datasets, each as its seperate adata object\n",
    "\n",
    "import scanpy as sc\n",
    "import scrublet as scr\n",
    "import h5py\n",
    "\n",
    "output_directory = '/home/dwk681/workspace/CRA004660/'\n",
    "\n",
    "path = '/home/dwk681/workspace/CRA004660/CRR403690_Liver-Iso-Y/CRR403690/outs/filtered_feature_bc_matrix'\n",
    "adata_Iso_Y = sc.read_10x_mtx(\n",
    "    path,  \n",
    "    cache=True)\n",
    "\n",
    "path = '/home/dwk681/workspace/CRA004660/CRR403692_Liver-Het-Y/CRR403692/outs/filtered_feature_bc_matrix'\n",
    "adata_Het_Y = sc.read_10x_mtx(\n",
    "    path,  \n",
    "    cache=True)\n",
    "\n",
    "path = '/home/dwk681/workspace/CRA004660/CRR403691_Liver-Iso-O/CRR403691/outs/filtered_feature_bc_matrix'\n",
    "adata_Iso_O = sc.read_10x_mtx(\n",
    "    path,  \n",
    "    cache=True)\n",
    "\n",
    "path = '/home/dwk681/workspace/CRA004660/CRR403693_Liver-Het-O/CRR403693/outs/filtered_feature_bc_matrix/' # the directory with the `.mtx` file\n",
    "adata_Het_O = sc.read_10x_mtx(\n",
    "    path,  \n",
    "    cache=True)\n",
    "\n",
    "#Iso-Y:    17,030 × 68,886"
   ]
  },
  {
   "cell_type": "code",
   "execution_count": null,
   "id": "e3523360",
   "metadata": {},
   "outputs": [],
   "source": []
  },
  {
   "cell_type": "code",
   "execution_count": 79,
   "id": "a1ecd2c2",
   "metadata": {},
   "outputs": [],
   "source": [
    "# Define the filter criteria\n",
    "min_genes = 500\n",
    "max_genes = 6000\n",
    "min_umis = 500\n",
    "max_umis = 40000\n",
    "max_mito_ratio = 0.10  # 10% mitochondrial genes ratio\n",
    "max_ribo_ratio = 0.40  # 40% ribosomal genes ratio\n",
    "\n",
    "# Filter cells based on gene counts and UMI counts\n",
    "sc.pp.filter_cells(adata, min_genes=min_genes)\n",
    "sc.pp.filter_cells(adata, max_genes=max_genes)\n",
    "sc.pp.filter_cells(adata, min_counts=min_umis)\n",
    "sc.pp.filter_cells(adata, max_counts=max_umis)\n",
    "\n",
    "# Calculate the mitochondrial and ribosomal gene ratios\n",
    "mito_genes = adata.var_names.str.startswith('MT-')\n",
    "ribo_genes = adata.var_names.str.startswith('RPL') | adata.var_names.str.startswith('RPS')\n",
    "\n",
    "# Calculate the mitochondrial and ribosomal gene sums for each cell\n",
    "mito_counts = adata[:, mito_genes].X.sum(axis=1)\n",
    "ribo_counts = adata[:, ribo_genes].X.sum(axis=1)\n",
    "\n",
    "# Calculate the mitochondrial and ribosomal gene ratios\n",
    "mito_ratio = mito_counts / len(adata.obs['n_counts'])\n",
    "ribo_ratio = ribo_counts / len(adata.obs['n_counts'])\n",
    "\n",
    "# Filter cells based on mitochondrial and ribosomal gene ratios\n",
    "adata = adata[(mito_ratio <= max_mito_ratio) & (ribo_ratio <= max_ribo_ratio), :]\n",
    "\n",
    "# Remove the temporary columns used for calculations\n",
    "adata.obs.drop(columns=['n_counts'], inplace=True)\n"
   ]
  },
  {
   "cell_type": "code",
   "execution_count": 80,
   "id": "cb5d75b0",
   "metadata": {},
   "outputs": [
    {
     "name": "stdout",
     "output_type": "stream",
     "text": [
      "Preprocessing...\n",
      "Simulating doublets...\n",
      "Embedding transcriptomes using PCA...\n",
      "Calculating doublet scores...\n",
      "Automatically set threshold at doublet score = 0.63\n",
      "Detected doublet rate = 0.0%\n",
      "Estimated detectable doublet fraction = 0.1%\n",
      "Overall doublet rate:\n",
      "\tExpected   = 10.0%\n",
      "\tEstimated  = 16.7%\n",
      "Elapsed time: 3.9 seconds\n"
     ]
    },
    {
     "data": {
      "image/png": "[encoded data removed]",
      "text/plain": [
       "<Figure size 576x216 with 2 Axes>"
      ]
     },
     "metadata": {
      "needs_background": "light"
     },
     "output_type": "display_data"
    }
   ],
   "source": [
    "scrub = scr.Scrublet(adata.X)\n",
    "doublet_scores, predicted_doublets = scrub.scrub_doublets()\n",
    "\n",
    "# Define a threshold for doublet prediction\n",
    "doublet_threshold = 0.25\n",
    "\n",
    "# Create a boolean mask for doublets\n",
    "is_doublet = predicted_doublets > doublet_threshold\n",
    "\n",
    "# Filter out doublets from the dataset\n",
    "adata = adata[~is_doublet, :]\n",
    "\n",
    "scrub.plot_histogram();"
   ]
  },
  {
   "cell_type": "code",
   "execution_count": 81,
   "id": "840c6377",
   "metadata": {},
   "outputs": [],
   "source": [
    "#count_matrix = adata.X.astype(np.float32)\n",
    "\n",
    "count_matrix = adata.X.toarray()\n",
    "\n",
    "with h5py.File(output_directory + f'{filename}_filtered_count_matrix.mat', 'w') as f:\n",
    "    f.create_dataset('count_matrix', data=count_matrix)"
   ]
  },
  {
   "cell_type": "code",
   "execution_count": null,
   "id": "9f49ddaf",
   "metadata": {},
   "outputs": [],
   "source": []
  },
  {
   "cell_type": "code",
   "execution_count": 82,
   "id": "f6831b5c",
   "metadata": {},
   "outputs": [
    {
     "data": {
      "text/plain": [
       "View of AnnData object with n_obs × n_vars = 4273 × 68886\n",
       "    obs: 'n_genes'\n",
       "    var: 'gene_ids', 'feature_types'"
      ]
     },
     "execution_count": 82,
     "metadata": {},
     "output_type": "execute_result"
    }
   ],
   "source": [
    "adata\n"
   ]
  },
  {
   "cell_type": "code",
   "execution_count": null,
   "id": "ef9e4e06",
   "metadata": {},
   "outputs": [],
   "source": [
    "#Liver-Iso-O is 9,052 × 68,886\n",
    "#Liver-Het-O 11,518 × 68,886\n",
    "#Liver-Het-Y 14,029 × 68,886\n",
    "#Liver-Iso-Y 4,273 × 68,886"
   ]
  },
  {
   "cell_type": "code",
   "execution_count": null,
   "id": "66058c34",
   "metadata": {},
   "outputs": [],
   "source": []
  },
  {
   "cell_type": "code",
   "execution_count": null,
   "id": "542bd22e",
   "metadata": {},
   "outputs": [],
   "source": []
  },
  {
   "cell_type": "code",
   "execution_count": null,
   "id": "c968a644",
   "metadata": {},
   "outputs": [],
   "source": []
  }
 ],
 "metadata": {
  "kernelspec": {
   "display_name": "scrublet",
   "language": "python",
   "name": "scrublet"
  },
  "language_info": {
   "codemirror_mode": {
    "name": "ipython",
    "version": 3
   },
   "file_extension": ".py",
   "mimetype": "text/x-python",
   "name": "python",
   "nbconvert_exporter": "python",
   "pygments_lexer": "ipython3",
   "version": "3.9.5"
  }
 },
 "nbformat": 4,
 "nbformat_minor": 5
}
