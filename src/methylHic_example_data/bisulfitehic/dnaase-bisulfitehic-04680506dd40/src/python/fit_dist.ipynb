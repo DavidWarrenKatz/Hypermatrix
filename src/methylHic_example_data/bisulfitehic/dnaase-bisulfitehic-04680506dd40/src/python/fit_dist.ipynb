{
 "cells": [
  {
   "cell_type": "code",
   "execution_count": 5,
   "metadata": {
    "collapsed": true,
    "pycharm": {
     "is_executing": false
    }
   },
   "outputs": [],
   "source": [
    "import numpy as np\n",
    "import pysam\n",
    "from scipy import stats\n"
   ]
  },
  {
   "cell_type": "code",
   "execution_count": 64,
   "outputs": [
    {
     "data": {
      "text/plain": "(2463135,)"
     },
     "metadata": {},
     "output_type": "execute_result",
     "execution_count": 64
    }
   ],
   "source": [
    "##get data\n",
    "in_bed='/Users/yaping/Documents/workspace/project/hexaseq/bulk_dna_rna_20201214/accessibility/DNA_IMR90_rep2_merged.b37.calmd.cytosine.filtered.sort.GCH.strand.6plus2.chr20.bed.gz'\n",
    "tbx = pysam.TabixFile(in_bed)\n",
    "methy_list = []\n",
    "pos_list = []\n",
    "for line in tbx.fetch('20', 0, 63025520):\n",
    "    splitline = line.split(\"\\t\")\n",
    "    pos = int(splitline[2])\n",
    "    m = (100.0-float(splitline[6]))/100\n",
    "    c = int(splitline[7])\n",
    "    if c >= 3:\n",
    "        methy_list.append(m)\n",
    "        pos_list.append(pos)\n",
    "methy_list = np.array(methy_list, dtype='float')\n",
    "pos_list = np.array(pos_list, dtype='int')\n",
    "methy_list = stats.zscore(methy_list)\n",
    "methy_list.shape\n",
    "\n"
   ],
   "metadata": {
    "collapsed": false,
    "pycharm": {
     "name": "#%%\n",
     "is_executing": false
    }
   }
  },
  {
   "cell_type": "code",
   "execution_count": 22,
   "outputs": [],
   "source": [
    "from scipy.stats import distributions\n",
    "\n",
    "# Sample parameters\n",
    "nsamples = 1000\n",
    "mu1_true = 0.3\n",
    "mu2_true = 0.55\n",
    "sig1_true = 0.08\n",
    "sig2_true = 0.12\n",
    "a_true = 0.4\n",
    "\n",
    "# Samples generation\n",
    "np.random.seed(3)  # for repeatability\n",
    "bins = np.arange(-4, 2, 0.05)\n",
    "data, _ = np.histogram(methy_list, bins=bins, density=True)\n",
    "x_data = bins[:-1] + 0.5*(bins[1] - bins[0])"
   ],
   "metadata": {
    "collapsed": false,
    "pycharm": {
     "name": "#%%\n",
     "is_executing": false
    }
   }
  },
  {
   "cell_type": "code",
   "execution_count": 23,
   "outputs": [
    {
     "data": {
      "text/plain": "<Figure size 432x288 with 1 Axes>",
      "image/png": "[encoded data removed]"
     },
     "metadata": {
      "needs_background": "light"
     },
     "output_type": "display_data"
    }
   ],
   "source": [
    "from scipy.stats import distributions\n",
    "import matplotlib.pyplot as plt\n",
    "%matplotlib inline\n",
    "import seaborn as sns\n",
    "plt.plot(x_data, data, '-o');"
   ],
   "metadata": {
    "collapsed": false,
    "pycharm": {
     "name": "#%%\n",
     "is_executing": false
    }
   }
  },
  {
   "cell_type": "code",
   "execution_count": 154,
   "outputs": [],
   "source": [
    "import lmfit\n",
    "\n",
    "peak1 = lmfit.models.GaussianModel(prefix='p1_') # strong TFBS peaks\n",
    "peak2 = lmfit.models.GaussianModel(prefix='p2_') # weak TFBS peaks\n",
    "peak3 = lmfit.models.GaussianModel(prefix='p3_') # nucleosome peaks\n",
    "peak4 = lmfit.models.GaussianModel(prefix='p4_') # background linker\n",
    "peak5 = lmfit.models.GaussianModel(prefix='p5_') # NDR\n",
    "model = peak1 + peak2 + peak3 + peak4 + peak5\n",
    "\n",
    "model.set_param_hint('p1_center', value=1.2, min=-4, max=2)\n",
    "model.set_param_hint('p2_center', value=0.8, min=-4, max=2)\n",
    "model.set_param_hint('p3_center', value=0.3, min=-4, max=2)\n",
    "model.set_param_hint('p4_center', value=-0.5, min=-4, max=2)\n",
    "model.set_param_hint('p5_center', value=-2, min=-4, max=2)\n",
    "model.set_param_hint('p1_sigma', value=0.1, min=0.01, max=0.3)\n",
    "model.set_param_hint('p2_sigma', value=0.1, min=0.01, max=0.3)\n",
    "model.set_param_hint('p3_sigma', value=0.1, min=0.01, max=0.3)\n",
    "model.set_param_hint('p4_sigma', value=0.5, min=0.01, max=5)\n",
    "model.set_param_hint('p5_sigma', value=0.1, min=0.01, max=0.3)\n",
    "model.set_param_hint('p1_amplitude', value=0.05, min=0.0, max=1)\n",
    "model.set_param_hint('p2_amplitude', value=0.05, min=0.0, max=1)\n",
    "model.set_param_hint('p3_amplitude', value=0.35, min=0.0, max=1)\n",
    "model.set_param_hint('p4_amplitude', value=0.5, min=0.0, max=1)\n",
    "model.set_param_hint('p5_amplitude', value=0.05, min=0.0, max=1)\n",
    "name = '5-gaussians'\n"
   ],
   "metadata": {
    "collapsed": false,
    "pycharm": {
     "name": "#%%\n",
     "is_executing": false
    }
   }
  },
  {
   "cell_type": "code",
   "execution_count": 155,
   "outputs": [
    {
     "name": "stdout",
     "text": [
      "[[Model]]\n    ((((Model(gaussian, prefix='p1_') + Model(gaussian, prefix='p2_')) + Model(gaussian, prefix='p3_')) + Model(gaussian, prefix='p4_')) + Model(gaussian, prefix='p5_'))\n[[Fit Statistics]]\n    # fitting method   = leastsq\n    # function evals   = 2677\n    # data points      = 119\n    # variables        = 15\n    chi-square         = 9.22974181\n    reduced chi-square = 0.08874752\n    Akaike info crit   = -274.246398\n    Bayesian info crit = -232.559545\n[[Variables]]\n    p1_amplitude:  0.14785549 +/- 0.59052829 (399.40%) (init = 0.05)\n    p1_center:     1.27568647 +/- 0.20427286 (16.01%) (init = 1.2)\n    p1_sigma:      0.01329058 +/- 0.05596302 (421.07%) (init = 0.1)\n    p2_amplitude:  0.08310344 +/- 0.13544134 (162.98%) (init = 0.05)\n    p2_center:     0.51946312 +/- 0.12935205 (24.90%) (init = 0.8)\n    p2_sigma:      0.14989764 +/- 0.17673524 (117.90%) (init = 0.1)\n    p3_amplitude:  0.03758599 +/- 17.2522088 (45900.64%) (init = 0.35)\n    p3_center:     0.17511009 +/- 20.9450567 (11961.08%) (init = 0.3)\n    p3_sigma:      0.01065719 +/- 4.89856084 (45964.85%) (init = 0.1)\n    p4_amplitude:  0.53954080 +/- 0.21326644 (39.53%) (init = 0.5)\n    p4_center:    -0.26807694 +/- 0.27564040 (102.82%) (init = -0.5)\n    p4_sigma:      0.59576746 +/- 0.24117628 (40.48%) (init = 0.5)\n    p5_amplitude:  0.02789545 +/- 2.25392006 (8079.88%) (init = 0.05)\n    p5_center:    -1.67597195 +/- 4.58485075 (273.56%) (init = -2)\n    p5_sigma:      0.01192886 +/- 1.13334018 (9500.83%) (init = 0.1)\n    p1_fwhm:       0.03129693 +/- 0.13178283 (421.07%) == '2.3548200*p1_sigma'\n    p1_height:     4.43816564 +/- 3.54604300 (79.90%) == '0.3989423*p1_amplitude/max(2.220446049250313e-16, p1_sigma)'\n    p2_fwhm:       0.35298196 +/- 0.41617967 (117.90%) == '2.3548200*p2_sigma'\n    p2_height:     0.22117411 +/- 0.22081284 (99.84%) == '0.3989423*p2_amplitude/max(2.220446049250313e-16, p2_sigma)'\n    p3_fwhm:       0.02509576 +/- 11.5352291 (45964.85%) == '2.3548200*p3_sigma'\n    p3_height:     1.40699788 +/- 28.5174996 (2026.83%) == '0.3989423*p3_amplitude/max(2.220446049250313e-16, p3_sigma)'\n    p4_fwhm:       1.40292512 +/- 0.56792671 (40.48%) == '2.3548200*p4_sigma'\n    p4_height:     0.36129138 +/- 0.08342774 (23.09%) == '0.3989423*p4_amplitude/max(2.220446049250313e-16, p4_sigma)'\n    p5_fwhm:       0.02809032 +/- 2.66881212 (9500.83%) == '2.3548200*p5_sigma'\n    p5_height:     0.93292034 +/- 29.5348481 (3165.85%) == '0.3989423*p5_amplitude/max(2.220446049250313e-16, p5_sigma)'\n[[Correlations]] (unreported correlations are < 0.100)\n    C(p3_amplitude, p3_sigma)     =  0.999\n    C(p1_amplitude, p1_sigma)     =  0.982\n    C(p5_amplitude, p5_sigma)     =  0.948\n    C(p4_amplitude, p4_sigma)     =  0.834\n    C(p2_amplitude, p4_center)    = -0.810\n    C(p2_amplitude, p4_amplitude) = -0.810\n    C(p2_amplitude, p2_sigma)     =  0.794\n    C(p2_amplitude, p4_sigma)     = -0.755\n    C(p4_amplitude, p4_center)    =  0.688\n    C(p4_center, p4_sigma)        =  0.616\n    C(p2_sigma, p4_amplitude)     = -0.593\n    C(p2_sigma, p4_center)        = -0.590\n    C(p5_center, p5_sigma)        =  0.570\n    C(p2_sigma, p4_sigma)         = -0.546\n    C(p1_center, p1_sigma)        = -0.352\n    C(p5_amplitude, p5_center)    =  0.278\n    C(p3_sigma, p4_center)        = -0.271\n    C(p3_amplitude, p4_center)    = -0.266\n    C(p3_sigma, p4_amplitude)     = -0.249\n    C(p3_amplitude, p4_amplitude) = -0.244\n    C(p1_amplitude, p4_sigma)     = -0.202\n    C(p1_sigma, p4_sigma)         = -0.202\n    C(p1_sigma, p4_amplitude)     = -0.188\n    C(p1_amplitude, p4_amplitude) = -0.188\n    C(p2_sigma, p3_center)        = -0.182\n    C(p1_sigma, p2_amplitude)     =  0.181\n    C(p1_amplitude, p2_amplitude) =  0.181\n    C(p1_sigma, p4_center)        = -0.173\n    C(p1_amplitude, p4_center)    = -0.173\n    C(p1_amplitude, p1_center)    = -0.171\n    C(p2_amplitude, p3_center)    = -0.165\n    C(p4_sigma, p5_amplitude)     = -0.157\n    C(p4_sigma, p5_sigma)         = -0.154\n    C(p3_sigma, p4_sigma)         = -0.146\n    C(p3_amplitude, p4_sigma)     = -0.143\n    C(p2_amplitude, p3_sigma)     =  0.133\n    C(p1_sigma, p2_sigma)         =  0.132\n    C(p1_amplitude, p2_sigma)     =  0.131\n    C(p2_center, p3_amplitude)    =  0.130\n    C(p3_center, p4_center)       =  0.129\n    C(p2_amplitude, p3_amplitude) =  0.126\n    C(p3_center, p4_amplitude)    =  0.125\n    C(p2_center, p3_sigma)        =  0.125\n    C(p4_amplitude, p5_amplitude) = -0.124\n    C(p4_amplitude, p5_sigma)     = -0.121\n    C(p2_center, p3_center)       =  0.106\n"
     ],
     "output_type": "stream"
    }
   ],
   "source": [
    "fit_res = model.fit(data, x=x_data)\n",
    "print(fit_res.fit_report())\n"
   ],
   "metadata": {
    "collapsed": false,
    "pycharm": {
     "name": "#%%\n",
     "is_executing": false
    }
   }
  },
  {
   "cell_type": "code",
   "execution_count": 156,
   "outputs": [
    {
     "data": {
      "text/plain": "<matplotlib.lines.Line2D at 0x12ec79d68>"
     },
     "metadata": {},
     "output_type": "execute_result",
     "execution_count": 156
    },
    {
     "data": {
      "text/plain": "<Figure size 432x288 with 1 Axes>",
      "image/png": "[encoded data removed]"
     },
     "metadata": {
      "needs_background": "light"
     },
     "output_type": "display_data"
    }
   ],
   "source": [
    "fig, ax = plt.subplots()\n",
    "x = x_data\n",
    "ax.plot(x, model.eval(x=x, **fit_res.values), 'k', alpha=0.8)\n",
    "plt.plot(x_data, data, 'o');\n",
    "if  fit_res.model.components is not None:\n",
    "    for component in fit_res.model.components:\n",
    "        ax.plot(x, component.eval(x=x, **fit_res.values), '--k',\n",
    "                alpha=0.8)\n",
    "for param in ['p1_center', 'p2_center', 'p3_center', 'p4_center', 'p5_center']:\n",
    "    ax.axvline(fit_res.params[param].value, ls='--', color='r')\n",
    "ax.axvline(mu1_true, color='k', alpha=0.5)\n",
    "ax.axvline(mu2_true, color='k', alpha=0.5)\n"
   ],
   "metadata": {
    "collapsed": false,
    "pycharm": {
     "name": "#%%\n",
     "is_executing": false
    }
   }
  },
  {
   "cell_type": "code",
   "execution_count": 157,
   "outputs": [],
   "source": [
    "prob_list_comp1 = fit_res.model.components[0].eval(x=methy_list, **fit_res.values)\n",
    "prob_list_comp2 = fit_res.model.components[1].eval(x=methy_list, **fit_res.values)\n",
    "prob_list_comp3 = fit_res.model.components[2].eval(x=methy_list, **fit_res.values)\n",
    "prob_list_comp4 = fit_res.model.components[3].eval(x=methy_list, **fit_res.values)\n",
    "prob_list_comp5 = fit_res.model.components[4].eval(x=methy_list, **fit_res.values)\n",
    "prob_list = np.column_stack((prob_list_comp1, prob_list_comp2, prob_list_comp3, prob_list_comp4, prob_list_comp5))"
   ],
   "metadata": {
    "collapsed": false,
    "pycharm": {
     "name": "#%%\n",
     "is_executing": false
    }
   }
  },
  {
   "cell_type": "code",
   "execution_count": 158,
   "outputs": [
    {
     "data": {
      "text/plain": "array([[0.00000000e+00, 9.51130051e-03, 8.10131440e-01, 1.80357259e-01,\n        0.00000000e+00],\n       [0.00000000e+00, 4.37191213e-01, 1.59069618e-88, 5.62808787e-01,\n        0.00000000e+00],\n       [0.00000000e+00, 9.51130051e-03, 8.10131440e-01, 1.80357259e-01,\n        0.00000000e+00],\n       [9.96997158e-01, 1.75931711e-07, 0.00000000e+00, 3.00266642e-03,\n        0.00000000e+00],\n       [0.00000000e+00, 9.51130051e-03, 8.10131440e-01, 1.80357259e-01,\n        0.00000000e+00],\n       [0.00000000e+00, 4.87695721e-21, 0.00000000e+00, 1.00000000e+00,\n        0.00000000e+00],\n       [9.96997158e-01, 1.75931711e-07, 0.00000000e+00, 3.00266642e-03,\n        0.00000000e+00],\n       [0.00000000e+00, 9.51130051e-03, 8.10131440e-01, 1.80357259e-01,\n        0.00000000e+00],\n       [9.96997158e-01, 1.75931711e-07, 0.00000000e+00, 3.00266642e-03,\n        0.00000000e+00],\n       [0.00000000e+00, 8.71603702e-11, 0.00000000e+00, 1.00000000e+00,\n        0.00000000e+00]])"
     },
     "metadata": {},
     "output_type": "execute_result",
     "execution_count": 158
    }
   ],
   "source": [
    "prob_sum = np.sum(prob_list,axis=1)\n",
    "prob_list_norm = np.column_stack((prob_list[:,0]/prob_sum, prob_list[:,1]/prob_sum, prob_list[:,2]/prob_sum, prob_list[:,3]/prob_sum, prob_list[:,4]/prob_sum))\n",
    "prob_list_norm[0:10,]"
   ],
   "metadata": {
    "collapsed": false,
    "pycharm": {
     "name": "#%%\n",
     "is_executing": false
    }
   }
  },
  {
   "cell_type": "code",
   "execution_count": 159,
   "outputs": [
    {
     "data": {
      "text/plain": "array([2, 3, 2, 0, 2, 3, 0, 2, 0, 3])"
     },
     "metadata": {},
     "output_type": "execute_result",
     "execution_count": 159
    }
   ],
   "source": [
    "row_encode = np.argmax(prob_list_norm, axis=1)\n",
    "row_encode[0:10]"
   ],
   "metadata": {
    "collapsed": false,
    "pycharm": {
     "name": "#%%\n",
     "is_executing": false
    }
   }
  },
  {
   "cell_type": "code",
   "execution_count": 160,
   "outputs": [],
   "source": [
    "with open('/Users/yaping/Documents/workspace/project/hexaseq/bulk_dna_rna_20201214/accessibility/DNA_IMR90_rep2_merged.row_encode_4GMM.b37.bedgraph','w') as out:\n",
    "    for i in range(len(pos_list)):\n",
    "        out.write('20' + '\\t' + str(pos_list[i]-1) + '\\t' + str(pos_list[i]) + '\\t' + str(row_encode[i]) + '\\n')\n"
   ],
   "metadata": {
    "collapsed": false,
    "pycharm": {
     "name": "#%%\n",
     "is_executing": false
    }
   }
  },
  {
   "cell_type": "code",
   "execution_count": 161,
   "outputs": [
    {
     "data": {
      "text/plain": "array([60199, 60200, 60202, 60203, 60215, 60221, 60222, 60226, 60227,\n       60232])"
     },
     "metadata": {},
     "output_type": "execute_result",
     "execution_count": 161
    }
   ],
   "source": [
    "pos_list[0:10]\n"
   ],
   "metadata": {
    "collapsed": false,
    "pycharm": {
     "name": "#%%\n",
     "is_executing": false
    }
   }
  },
  {
   "cell_type": "code",
   "execution_count": null,
   "outputs": [],
   "source": [
    "\n"
   ],
   "metadata": {
    "collapsed": false,
    "pycharm": {
     "name": "#%%\n"
    }
   }
  }
 ],
 "metadata": {
  "kernelspec": {
   "display_name": "Python 3",
   "language": "python",
   "name": "python3"
  },
  "language_info": {
   "codemirror_mode": {
    "name": "ipython",
    "version": 2
   },
   "file_extension": ".py",
   "mimetype": "text/x-python",
   "name": "python",
   "nbconvert_exporter": "python",
   "pygments_lexer": "ipython2",
   "version": "2.7.6"
  },
  "pycharm": {
   "stem_cell": {
    "cell_type": "raw",
    "source": [],
    "metadata": {
     "collapsed": false
    }
   }
  }
 },
 "nbformat": 4,
 "nbformat_minor": 0
}