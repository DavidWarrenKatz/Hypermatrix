{
 "cells": [
  {
   "cell_type": "code",
   "execution_count": null,
   "id": "173d487a",
   "metadata": {},
   "outputs": [],
   "source": [
    "import h5py\n",
    "import matplotlib.pyplot as plt\n",
    "import numpy as np\n",
    "\n",
    "def plot_matrix(file_path):\n",
    "    # Load the matrix from the HDF5 file\n",
    "    with h5py.File(file_path, 'r') as hf:\n",
    "        matrix = hf['methy_matrix'][:]\n",
    "\n",
    "    # Check for any negative values in the matrix\n",
    "    if np.any(matrix < 0):\n",
    "        print(f\"Warning: The matrix contains negative values.\")\n",
    "    else:\n",
    "        print(f\"No negative values found in the matrix.\")\n",
    "\n",
    "    # Calculate and print the norm and the number of nonzero values\n",
    "    norm = np.linalg.norm(matrix)\n",
    "    nonzero_count = np.count_nonzero(matrix)\n",
    "    print(f\"Norm of the matrix: {norm}\")\n",
    "    print(f\"Number of nonzero values: {nonzero_count}\")\n",
    "\n",
    "    # Plot the matrix\n",
    "    plt.figure(figsize=(10, 8))\n",
    "    plt.imshow(matrix, aspect='auto', cmap='viridis')\n",
    "    plt.colorbar(label='Matrix values')\n",
    "    plt.title('Example Matrix Plot')\n",
    "    plt.xlabel('Columns')\n",
    "    plt.ylabel('Rows')\n",
    "    plt.show()\n",
    "\n",
    "# Example usage:\n",
    "file_path = 'path_to_your_computed_matrix_file.h5'\n",
    "plot_matrix(file_path)\n"
   ]
  }
 ],
 "metadata": {
  "kernelspec": {
   "display_name": "multiomics6",
   "language": "python",
   "name": "multiomics6"
  },
  "language_info": {
   "codemirror_mode": {
    "name": "ipython",
    "version": 3
   },
   "file_extension": ".py",
   "mimetype": "text/x-python",
   "name": "python",
   "nbconvert_exporter": "python",
   "pygments_lexer": "ipython3",
   "version": "3.8.17"
  }
 },
 "nbformat": 4,
 "nbformat_minor": 5
}
