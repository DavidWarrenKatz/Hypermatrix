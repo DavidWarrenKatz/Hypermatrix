{
 "cells": [
  {
   "cell_type": "code",
   "execution_count": null,
   "id": "a00648e2",
   "metadata": {},
   "outputs": [
    {
     "name": "stdout",
     "output_type": "stream",
     "text": [
      "Warning: The matrix contains negative values.\n",
      "Norm of the matrix: 11.859284752811536\n",
      "Number of nonzero values: 62001\n",
      "Minimum value in the matrix: -0.19453684858556777\n",
      "Maximum value in the matrix: 0.24916274535690303\n",
      "Total number of entries: 62001\n"
     ]
    }
   ],
   "source": [
    "import h5py\n",
    "import matplotlib.pyplot as plt\n",
    "import numpy as np\n",
    "from sklearn.decomposition import NMF\n",
    "\n",
    "def plot_matrix_and_factors(file_path, n_components=2):\n",
    "    # Load the matrix from the HDF5 file\n",
    "    with h5py.File(file_path, 'r') as hf:\n",
    "        dataset_name = list(hf.keys())[0]  # Assuming there's only one dataset in the file\n",
    "        matrix = hf[dataset_name][:]\n",
    "\n",
    "    # Check for any negative values in the matrix\n",
    "    if np.any(matrix < 0):\n",
    "        print(f\"Warning: The matrix contains negative values.\")\n",
    "    else:\n",
    "        print(f\"No negative values found in the matrix.\")\n",
    "\n",
    "    # Calculate and print various statistics of the matrix\n",
    "    norm = np.linalg.norm(matrix)\n",
    "    nonzero_count = np.count_nonzero(matrix)\n",
    "    min_value = np.min(matrix)\n",
    "    max_value = np.max(matrix)\n",
    "    total_entries = matrix.size\n",
    "\n",
    "    print(f\"Norm of the matrix: {norm}\")\n",
    "    print(f\"Number of nonzero values: {nonzero_count}\")\n",
    "    print(f\"Minimum value in the matrix: {min_value}\")\n",
    "    print(f\"Maximum value in the matrix: {max_value}\")\n",
    "    print(f\"Total number of entries: {total_entries}\")\n",
    "\n",
    "    # Compute the correlation matrix\n",
    "    correlation_matrix = np.corrcoef(matrix)\n",
    "\n",
    "    # Plot the correlation matrix\n",
    "    plt.figure(figsize=(10, 8))\n",
    "    plt.imshow(correlation_matrix, aspect='auto', cmap='viridis')\n",
    "    plt.colorbar(label='Correlation values')\n",
    "    plt.title('Correlation Matrix')\n",
    "    plt.xlabel('Columns')\n",
    "    plt.ylabel('Columns')\n",
    "    plt.show()\n",
    "\n",
    "    # Perform symmetric NMF\n",
    "    model = NMF(n_components=n_components, init='nndsvd', solver='mu', beta_loss='frobenius', max_iter=1000, random_state=42)\n",
    "    W = model.fit_transform(matrix)\n",
    "    H = model.components_\n",
    "\n",
    "    print(W.shape)\n",
    "    print(H.shape)\n",
    "    \n",
    "    # Plot the matrix\n",
    "    plt.figure(figsize=(10, 8))\n",
    "    plt.imshow(matrix, aspect='auto', cmap='viridis')\n",
    "    plt.colorbar(label='Matrix values')\n",
    "    plt.title('Example Matrix Plot')\n",
    "    plt.xlabel('Columns')\n",
    "    plt.ylabel('Rows')\n",
    "    plt.show()\n",
    "\n",
    "    # Plot each column of W on the same plot\n",
    "    plt.figure(figsize=(10, 8))\n",
    "    for i in range(W.shape[1]):\n",
    "        plt.plot(W[:, i], label=f'Component {i+1}')\n",
    "    plt.title('Columns of W')\n",
    "    plt.xlabel('Samples')\n",
    "    plt.ylabel('Values')\n",
    "    plt.legend()\n",
    "    plt.show()\n",
    "    \n",
    "    return W\n",
    "\n",
    "# Example usage:\n",
    "file_path = '../../../projects/single_cell_files/methy_1Mb_outerproduct_dir/chr1/sc24.CGATGT_outer_product.h5'\n",
    "W = plot_matrix_and_factors(file_path, n_components=2)\n"
   ]
  },
  {
   "cell_type": "code",
   "execution_count": null,
   "id": "9663b2dd",
   "metadata": {},
   "outputs": [],
   "source": []
  },
  {
   "cell_type": "code",
   "execution_count": null,
   "id": "fb70b609",
   "metadata": {},
   "outputs": [],
   "source": []
  }
 ],
 "metadata": {
  "kernelspec": {
   "display_name": "multiomics6",
   "language": "python",
   "name": "multiomics6"
  },
  "language_info": {
   "codemirror_mode": {
    "name": "ipython",
    "version": 3
   },
   "file_extension": ".py",
   "mimetype": "text/x-python",
   "name": "python",
   "nbconvert_exporter": "python",
   "pygments_lexer": "ipython3",
   "version": "3.8.17"
  }
 },
 "nbformat": 4,
 "nbformat_minor": 5
}
